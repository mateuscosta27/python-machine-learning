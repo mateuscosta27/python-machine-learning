{
 "cells": [
  {
   "cell_type": "markdown",
   "metadata": {},
   "source": [
    "### Importando as bibliotecas"
   ]
  },
  {
   "cell_type": "code",
   "execution_count": 3,
   "metadata": {},
   "outputs": [],
   "source": [
    "import pandas as pd\n",
    "import math"
   ]
  },
  {
   "cell_type": "markdown",
   "metadata": {},
   "source": [
    "### Criando um dicionario com os valores que serao objeto de estudo \n",
    "Esses valores sao transformados em um DataFrame Pandas"
   ]
  },
  {
   "cell_type": "code",
   "execution_count": 35,
   "metadata": {},
   "outputs": [],
   "source": [
    "dados = {'valores':[41,38,39,45,47,41,44,41,37,42]}\n",
    "df = pd.DataFrame(dados)"
   ]
  },
  {
   "cell_type": "markdown",
   "metadata": {},
   "source": [
    "### Calculo de amplitude\n",
    "amplitude(x) = max(x) - min(x)"
   ]
  },
  {
   "cell_type": "code",
   "execution_count": null,
   "metadata": {},
   "outputs": [],
   "source": [
    "amplitude = df.max() - df.min()\n",
    "amplitude"
   ]
  },
  {
   "cell_type": "markdown",
   "metadata": {},
   "source": [
    "### Variancia populacional\n",
    "$\\sigma^2 = \\cfrac{\\displaystyle\\sum_{}{(x - \\mu)^2}} N $\n",
    "\n",
    "$\\sigma^2 $ =  Variancia\n",
    "\n",
    "${x}$ = valor analisado\n",
    "\n",
    "$\\mu$ = Media aritimetica\n",
    "\n",
    "${N}$ = Numero de dados do conjunto\n",
    "\n"
   ]
  },
  {
   "cell_type": "code",
   "execution_count": null,
   "metadata": {},
   "outputs": [],
   "source": []
  },
  {
   "cell_type": "markdown",
   "metadata": {},
   "source": [
    "### Desvio Padrao Populacional\n",
    "Diferenca entre o valor e a media do conjunto de dados populacional\n",
    "\n",
    "$\\sigma = \\sqrt{\\cfrac{\\displaystyle\\sum_{}(x - \\mu)^2}N}$\n",
    "\n",
    "ou simplesmente a raiz  quadrada da variancia\n",
    "\n",
    "$\\sigma = \\sqrt{\\sigma^2}$\n",
    "\n",
    " "
   ]
  },
  {
   "cell_type": "code",
   "execution_count": null,
   "metadata": {},
   "outputs": [],
   "source": []
  },
  {
   "cell_type": "code",
   "execution_count": 34,
   "metadata": {},
   "outputs": [
    {
     "data": {
      "text/plain": [
       "np.float64(3.13581462037113)"
      ]
     },
     "execution_count": 34,
     "metadata": {},
     "output_type": "execute_result"
    }
   ],
   "source": []
  },
  {
   "cell_type": "markdown",
   "metadata": {},
   "source": [
    "### Variancia Amostral\n",
    "se refere a raiz quadrada da variancia populacional\n",
    "n - 1 representa os graus de liberdade para correcao com relacao a variancia poupulacional\n",
    "\n",
    "$S^2 = \\cfrac{\\displaystyle \\sum_{}(x -\\bar{x})^2}{n -1}$"
   ]
  },
  {
   "cell_type": "markdown",
   "metadata": {},
   "source": [
    "### Desvio Padrao Amostral\n",
    "Refere-se a raiz quadrada da variancia amostral \n",
    "\n",
    "$S = \\sqrt{S^2}$"
   ]
  },
  {
   "cell_type": "code",
   "execution_count": null,
   "metadata": {},
   "outputs": [],
   "source": []
  },
  {
   "cell_type": "markdown",
   "metadata": {},
   "source": [
    "### Teorema de Chebychev\n",
    "Aplicado em qualquer distribuicao\n",
    "\n",
    "$m = 1 - \\cfrac{1}{k^2}$\n",
    "\n",
    "m = percentual dos dados\n",
    "\n",
    "k = numero de desvios padroes (> 1)."
   ]
  },
  {
   "cell_type": "markdown",
   "metadata": {},
   "source": [
    "### Desvio Padrao para dados agrupados\n",
    "\n",
    "$S = \\sqrt{ \\cfrac{\\displaystyle \\sum_{}(x -\\bar{x})^2 \\centerdot f} {n -1}}$"
   ]
  },
  {
   "cell_type": "markdown",
   "metadata": {},
   "source": [
    "# Medidas de posicao\n",
    "\n",
    "Fractis: divisao do conjunto de dados em partes iguais(Quartis, percentis, Mediana)"
   ]
  },
  {
   "cell_type": "markdown",
   "metadata": {},
   "source": [
    "### Quartis: \n",
    "Divide o conjunto de dados em 4 partes iguais\n",
    "\n",
    " \n",
    " $ Menor \\space\\space \\underlinesegment{Q1\\space\\space\\space}\\underlinesegment{Madiana,Q2\\space\\space\\space}\\underlinesegment{Q3\\space\\space\\space}\\underlinesegment{Q4\\space\\space\\space} Maior$ \n",
    "\n",
    "\n",
    "Amplitude interquartil(IQR) IQR = Q3 - Q1"
   ]
  }
 ],
 "metadata": {
  "kernelspec": {
   "display_name": "venv",
   "language": "python",
   "name": "python3"
  },
  "language_info": {
   "codemirror_mode": {
    "name": "ipython",
    "version": 3
   },
   "file_extension": ".py",
   "mimetype": "text/x-python",
   "name": "python",
   "nbconvert_exporter": "python",
   "pygments_lexer": "ipython3",
   "version": "3.11.9"
  }
 },
 "nbformat": 4,
 "nbformat_minor": 2
}
