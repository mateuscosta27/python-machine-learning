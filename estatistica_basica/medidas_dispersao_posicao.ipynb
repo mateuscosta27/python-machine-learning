{
 "cells": [
  {
   "cell_type": "markdown",
   "metadata": {},
   "source": [
    "### Importando as bibliotecas"
   ]
  },
  {
   "cell_type": "code",
   "execution_count": 1,
   "metadata": {},
   "outputs": [],
   "source": [
    "import pandas as pd\n",
    "import math\n",
    "import matplotlib.pyplot as plt"
   ]
  },
  {
   "cell_type": "markdown",
   "metadata": {},
   "source": [
    "### Criando um dicionario com os valores que serao objeto de estudo \n",
    "Esses valores sao transformados em um DataFrame Pandas"
   ]
  },
  {
   "cell_type": "code",
   "execution_count": 2,
   "metadata": {},
   "outputs": [],
   "source": [
    "dados = {'valores':[41,38,39,45,47,41,44,41,37,42]}\n",
    "df = pd.DataFrame(dados)"
   ]
  },
  {
   "cell_type": "markdown",
   "metadata": {},
   "source": [
    "### Calculo de amplitude\n",
    "${amplitude(x) = max(x) - min(x)}$"
   ]
  },
  {
   "cell_type": "code",
   "execution_count": 222,
   "metadata": {},
   "outputs": [
    {
     "name": "stdout",
     "output_type": "stream",
     "text": [
      "A Amplitude é: 10\n"
     ]
    }
   ],
   "source": [
    "amplitude = df.max() - df.min()\n",
    "print(f'A Amplitude é: {amplitude.iloc[0]}')"
   ]
  },
  {
   "cell_type": "markdown",
   "metadata": {},
   "source": [
    "### Variância populacional\n",
    "\n",
    "É encontrada a partir dos desvios em torno \n",
    "da média aritmética, conforme pode ser observado na fórmula a seguir\n",
    "\n",
    "\n",
    "$\\sigma^2 = \\cfrac{\\displaystyle\\sum_{}{(x - \\mu)^2}} N $\n",
    "\n",
    "$\\sigma^2 $ =  Variancia\n",
    "\n",
    "${x}$ = valor analisado\n",
    "\n",
    "$\\mu$ = Media aritimetica\n",
    "\n",
    "${N}$ = Numero de dados do conjunto(população)\n",
    "\n"
   ]
  },
  {
   "cell_type": "code",
   "execution_count": 223,
   "metadata": {},
   "outputs": [
    {
     "data": {
      "text/plain": [
       "np.float64(8.85)"
      ]
     },
     "execution_count": 223,
     "metadata": {},
     "output_type": "execute_result"
    }
   ],
   "source": [
    "media = df['valores'].mean()\n",
    "N = df['valores'].count()\n",
    "for i, j in df.items():\n",
    "    df['variancia_populacional'] = (j - media)**2/ N\n",
    "\n",
    "variancia_populacional = df['variancia_populacional'].sum()\n",
    "variancia_populacional\n"
   ]
  },
  {
   "cell_type": "markdown",
   "metadata": {},
   "source": [
    "### Desvio padrão populacional\n",
    "\n",
    "O desvio padrão, é a raiz quadrada da variância\n",
    "\n",
    "$\\sigma = \\sqrt{\\sigma^2}$\n",
    "\n",
    "ou\n",
    "\n",
    "\n",
    "$\\sigma = \\sqrt{\\cfrac{\\displaystyle\\sum_{}{(x - \\mu)^2}} n }$\n",
    "\n"
   ]
  },
  {
   "cell_type": "code",
   "execution_count": 224,
   "metadata": {},
   "outputs": [
    {
     "data": {
      "text/plain": [
       "2.9748949561287032"
      ]
     },
     "execution_count": 224,
     "metadata": {},
     "output_type": "execute_result"
    }
   ],
   "source": [
    "desvio_padrao_populacional = math.sqrt(variancia_populacional)\n",
    "desvio_padrao_populacional"
   ]
  },
  {
   "cell_type": "markdown",
   "metadata": {},
   "source": [
    "### Variancia Amostral\n",
    "se refere a raiz quadrada da variancia populacional\n",
    "n - 1 representa os graus de liberdade para correcao com relacao a variancia poupulacional\n",
    "\n",
    "$S^2 = \\cfrac{\\displaystyle \\sum_{}(x -\\bar{x})^2}{n -1}$"
   ]
  },
  {
   "cell_type": "code",
   "execution_count": 225,
   "metadata": {},
   "outputs": [
    {
     "data": {
      "text/plain": [
       "np.float64(9.833333333333334)"
      ]
     },
     "execution_count": 225,
     "metadata": {},
     "output_type": "execute_result"
    }
   ],
   "source": [
    "media = df['valores'].mean()\n",
    "n = df['valores'].count()\n",
    "for  j in df['valores']:\n",
    "    df['variancia_amostral'] = (df['valores'] - media)**2\n",
    "variancia_amostral = (df['variancia_amostral'].sum())/( n -1)\n",
    "variancia_amostral\n",
    "    "
   ]
  },
  {
   "cell_type": "markdown",
   "metadata": {},
   "source": [
    "### Desvio Padrao Amostral\n",
    "Refere-se a raiz quadrada da variancia amostral \n",
    "\n",
    "$S = \\sqrt{S^2}$"
   ]
  },
  {
   "cell_type": "code",
   "execution_count": 226,
   "metadata": {},
   "outputs": [
    {
     "data": {
      "text/plain": [
       "3.13581462037113"
      ]
     },
     "execution_count": 226,
     "metadata": {},
     "output_type": "execute_result"
    }
   ],
   "source": [
    "desvio_padrao_amostral = math.sqrt(variancia_amostral)\n",
    "desvio_padrao_amostral"
   ]
  },
  {
   "cell_type": "markdown",
   "metadata": {},
   "source": [
    "### Resumo \n"
   ]
  },
  {
   "cell_type": "code",
   "execution_count": 227,
   "metadata": {},
   "outputs": [
    {
     "name": "stdout",
     "output_type": "stream",
     "text": [
      "Amplitude: 10\n",
      "Variancia populacional 8.85\n",
      "Desvio padrão populacional 2.9748949561287032\n",
      "Variancia Amostral 9.833333333333334\n",
      "Desvio Padrão populacional 3.13581462037113\n"
     ]
    }
   ],
   "source": [
    "print(f'Amplitude: {amplitude.iloc[0]}')\n",
    "print(f'Variancia populacional {variancia_populacional}')\n",
    "print(f'Desvio padrão populacional {desvio_padrao_populacional}')\n",
    "print(f'Variancia Amostral {variancia_amostral}')\n",
    "print(f'Desvio Padrão populacional {desvio_padrao_amostral}')"
   ]
  },
  {
   "cell_type": "markdown",
   "metadata": {},
   "source": [
    "### Teorema de Chebychev\n",
    "Aplicado em qualquer distribuicao\n",
    "\n",
    "$m = 1 - \\cfrac{1}{k^2}$\n",
    "\n",
    "m = percentual dos dados\n",
    "\n",
    "k = numero de desvios padroes (> 1)."
   ]
  },
  {
   "cell_type": "markdown",
   "metadata": {},
   "source": [
    "### Desvio Padrao para dados agrupados\n",
    "\n",
    "$S = \\sqrt{ \\cfrac{\\displaystyle \\sum_{}(x -\\bar{x})^2 \\centerdot f} {n -1}}$\n",
    "\n",
    "\n",
    "Média dos agrupados\n",
    "\n",
    "$\\bar{x} = \\cfrac{\\displaystyle \\sum_{}x \\centerdot f} {n}$"
   ]
  },
  {
   "cell_type": "code",
   "execution_count": 57,
   "metadata": {},
   "outputs": [],
   "source": [
    "dados_agrupados = {'x':[0,1,2,3,4,5,6], 'f':[10,19,7,7,2,1,4]}\n",
    "df_dados_agrupados = pd.DataFrame(dados_agrupados)"
   ]
  },
  {
   "cell_type": "markdown",
   "metadata": {},
   "source": [
    "# Medidas de posicao\n",
    "\n",
    "Fractis: divisao do conjunto de dados em partes iguais(Quartis, percentis, Mediana)"
   ]
  },
  {
   "cell_type": "markdown",
   "metadata": {},
   "source": [
    "### Quartis: \n",
    "Divide o conjunto de dados em 4 partes iguais\n",
    "\n",
    " \n",
    " $ Menor \\space\\space \\underlinesegment{Q1\\space\\space\\space}\\underlinesegment{Madiana,Q2\\space\\space\\space}\\underlinesegment{Q3\\space\\space\\space}\\underlinesegment{Q4\\space\\space\\space} Maior$ \n",
    "\n",
    "\n",
    "Amplitude interquartil(IQR) IQR = Q3 - Q1"
   ]
  },
  {
   "cell_type": "code",
   "execution_count": 3,
   "metadata": {},
   "outputs": [],
   "source": [
    "valores = {'valores':[41,38,39,45,47,41,44,41,37,42]}\n",
    "df_valores = pd.DataFrame(valores)"
   ]
  },
  {
   "cell_type": "code",
   "execution_count": null,
   "metadata": {},
   "outputs": [],
   "source": [
    "df_valores.describe()"
   ]
  },
  {
   "cell_type": "code",
   "execution_count": 20,
   "metadata": {},
   "outputs": [
    {
     "data": {
      "image/png": "[encoded data removed]",
      "text/plain": [
       "<Figure size 640x480 with 1 Axes>"
      ]
     },
     "metadata": {},
     "output_type": "display_data"
    }
   ],
   "source": [
    "plt.boxplot(df['valores'], whis=[10,90], showfliers=True)\n",
    "plt.title(\"Valores usados para estudo\")\n",
    "plt.ylabel('Valores')\n",
    "plt.show()"
   ]
  },
  {
   "cell_type": "markdown",
   "metadata": {},
   "source": [
    "### Outliers\n",
    "\n",
    "Outliers são dados discrepantes, isto é, são dados muito diferentes dos demais dados pertencentes à variável em análise.\n",
    "\n",
    "A referência de cálculo é o intervalo interquartil (IQR):\n",
    "\n",
    "\n",
    "${Limite superior} = {Q3} + 1,5 \\centerdot IQR$\n",
    "\n",
    "${Limite inferior} = {Q1} - 1,5 \\centerdot IQR$\n",
    "\n",
    "Exemplo\n",
    "\n",
    "Q3 = 80 \n",
    "Q1 = 50\n",
    "\n",
    "IQR = 80-50 = 30\n",
    "\n",
    "\n",
    "${Limite\\space superior} = {80} + 1,5 \\centerdot 30 = 125$\n",
    "\n",
    "${Limite\\space inferior} = {50} - 1,5 \\centerdot 30 = 5$\n",
    "\n",
    "\n",
    "${Outliers > 125}$\n",
    "\n",
    "${Outliers < 5}$\n"
   ]
  }
 ],
 "metadata": {
  "kernelspec": {
   "display_name": "venv",
   "language": "python",
   "name": "python3"
  },
  "language_info": {
   "codemirror_mode": {
    "name": "ipython",
    "version": 3
   },
   "file_extension": ".py",
   "mimetype": "text/x-python",
   "name": "python",
   "nbconvert_exporter": "python",
   "pygments_lexer": "ipython3",
   "version": "3.11.4"
  }
 },
 "nbformat": 4,
 "nbformat_minor": 2
}
