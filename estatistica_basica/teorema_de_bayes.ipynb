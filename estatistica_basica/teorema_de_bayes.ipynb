{
 "cells": [
  {
   "cell_type": "markdown",
   "metadata": {},
   "source": [
    "### Lei da probabilidade total\n",
    "\n",
    "#### Regra da multiplicacao(Interseccao eventos dependentes)\n",
    "\n",
    "${P(B|A)}=\\cfrac{P(A \\cap B)}{P(A)}$ (Condicional) => ${P(A \\cap B) = P(A) \\centerdot p(B|A)}$ 2 eventos\n",
    "\n",
    "\n",
    "mais de dois eventos\n",
    "\n",
    "${P(A \\cap B \\cap C \\cap D)}=P(A) \\centerdot p(B|A) \\centerdot P(C|A \\cap B)\\centerdot (D|A\\cap B\\cap C) $\n",
    "\n",
    "Capacitdade de encontrar uma probabilidade quando se conhece outras probabilidades\n",
    "\n",
    "${P(A|B)}={\\cfrac{P(A) \\centerdot P(B|A)}{P(B)}}$"
   ]
  },
  {
   "cell_type": "markdown",
   "metadata": {},
   "source": [
    "### Lei da Probabilidade total\n",
    "\n",
    "\n",
    "Determina a probabilidade total de um evento que pode ser realizado atraves de varios eventos distintos\n",
    "\n",
    "\n",
    "${P(B)}=\\displaystyle\\sum^n_{i=1}{{P(B|Ai)}\\centerdot P(Ai)}$"
   ]
  }
 ],
 "metadata": {
  "language_info": {
   "name": "python"
  }
 },
 "nbformat": 4,
 "nbformat_minor": 2
}
