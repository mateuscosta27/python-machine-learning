{
 "cells": [
  {
   "cell_type": "markdown",
   "metadata": {},
   "source": [
    "### Importando as bibliotecas"
   ]
  },
  {
   "cell_type": "code",
   "execution_count": 1,
   "metadata": {},
   "outputs": [],
   "source": [
    "import pandas as pd\n",
    "import math\n"
   ]
  },
  {
   "cell_type": "markdown",
   "metadata": {},
   "source": [
    "### Criando um dicionario com os dados objeto de estudo"
   ]
  },
  {
   "cell_type": "code",
   "execution_count": 8,
   "metadata": {},
   "outputs": [],
   "source": [
    "dados = {'valores':[10,23,32,40,57,57]}\n",
    "df = pd.DataFrame(dados)"
   ]
  },
  {
   "cell_type": "markdown",
   "metadata": {},
   "source": [
    "### Média Aritmética Populacional\n",
    "\n",
    "$\\mu = \\cfrac{\\displaystyle\\sum_{}{x}}N$\n",
    "\n",
    "$\\mu $ =  Média Aritimética\n",
    "\n",
    "${x}$ = valor analisado\n",
    "\n",
    "${N}$ = Numero de dados do conjunto\n",
    "\n",
    "\n",
    "### Média Aritmética Amostral\n",
    "\n",
    "$\\bar{x} = \\cfrac{\\displaystyle\\sum_{}{x}}n$\n",
    "\n",
    "$\\bar{x} $ =  Média Aritimética\n",
    "\n",
    "${x}$ = valor analisado\n",
    "\n",
    "${n}$ = Numero de dados do conjunto\n",
    "\n",
    "\n",
    "É basicamente a mesma fórmula o que muda são as representações para sabermos quando se trata de populacional e amostral"
   ]
  },
  {
   "cell_type": "code",
   "execution_count": 9,
   "metadata": {},
   "outputs": [
    {
     "data": {
      "text/plain": [
       "np.float64(36.5)"
      ]
     },
     "execution_count": 9,
     "metadata": {},
     "output_type": "execute_result"
    }
   ],
   "source": [
    "media = df['valores'].mean()\n",
    "media"
   ]
  },
  {
   "cell_type": "markdown",
   "metadata": {},
   "source": [
    "### Mediana \n",
    "\n",
    "Mediana: Quando os dados são ordenados (crescente ou decrescente), a mediana é o valor que está no centro dos dados. Caso tenham dois valores centrais, calcula-se a média entre eles.\n"
   ]
  },
  {
   "cell_type": "code",
   "execution_count": 10,
   "metadata": {},
   "outputs": [
    {
     "data": {
      "text/plain": [
       "np.float64(36.0)"
      ]
     },
     "execution_count": 10,
     "metadata": {},
     "output_type": "execute_result"
    }
   ],
   "source": [
    "mediana = df['valores'].median()\n",
    "mediana"
   ]
  },
  {
   "cell_type": "markdown",
   "metadata": {},
   "source": [
    "### Moda\n",
    "A moda de um conjunto de dados é o valor que ocorre com \n",
    "maior frequência\n"
   ]
  },
  {
   "cell_type": "code",
   "execution_count": 11,
   "metadata": {},
   "outputs": [
    {
     "data": {
      "text/plain": [
       "0    57\n",
       "Name: valores, dtype: int64"
      ]
     },
     "execution_count": 11,
     "metadata": {},
     "output_type": "execute_result"
    }
   ],
   "source": [
    "moda = df['valores'].mode()\n",
    "moda"
   ]
  },
  {
   "cell_type": "markdown",
   "metadata": {},
   "source": [
    "### Média Ponderada\n",
    "\n",
    "Quando alguns valores possuem peso maior na média do que outros\n",
    "\n",
    "$\\bar{X} = \\cfrac{\\displaystyle\\sum_{}{X \\centerdot W}}{\\displaystyle\\sum_{}{W}}$\n",
    "\n",
    "\n",
    "$\\bar{X}$ = Media Ponderada\n",
    "\n",
    "${X}$ = Valor Analisado\n",
    "\n",
    "\n",
    "${W}$ = Peso de cada entrada"
   ]
  },
  {
   "cell_type": "code",
   "execution_count": null,
   "metadata": {},
   "outputs": [],
   "source": [
    "notas = {\n",
    "    'avaliacao':['Prova 1','Prova 2','Prova Final', 'Trabalho 1', 'Trabalho 2'],\n",
    "    'notas':[80,95,82,90,100],\n",
    "    'peso':[0.20,0.15,0.50,0.10,0.05]\n",
    "    }\n",
    "df_notas = pd.DataFrame(notas)\n",
    "df_notas"
   ]
  },
  {
   "cell_type": "code",
   "execution_count": null,
   "metadata": {},
   "outputs": [],
   "source": [
    "for i,j in df_notas.items():\n",
    "    df_notas['X.W'] = df_notas['notas'] * df_notas['peso']\n",
    "media_ponderada = df_notas['X.W'].sum() / df_notas['peso'].sum()\n",
    "media_ponderada"
   ]
  },
  {
   "cell_type": "markdown",
   "metadata": {},
   "source": [
    "### Ponto Médio\n",
    "\n",
    "É a medida de centro que é exatamente o \n",
    "valor a meio caminho entre o maior valor e o menor valor no \n",
    "conjunto original de dados\n",
    "\n",
    "${pmédio} = \\cfrac{max(x) - min(x)}2$\n",
    "\n"
   ]
  },
  {
   "cell_type": "code",
   "execution_count": 17,
   "metadata": {},
   "outputs": [
    {
     "data": {
      "text/plain": [
       "np.float64(10.0)"
      ]
     },
     "execution_count": 17,
     "metadata": {},
     "output_type": "execute_result"
    }
   ],
   "source": [
    "ponto_médio = (df_notas['notas'].max() - df_notas['notas'].min()) / 2\n",
    "ponto_médio"
   ]
  },
  {
   "cell_type": "markdown",
   "metadata": {},
   "source": [
    "### Média de uma distribuição de frequência\n",
    "\n",
    "\n",
    "$\\bar{X} = \\cfrac{\\displaystyle\\sum{x \\centerdot f}}n$\n",
    "\n",
    "${x}$ = ponto médio\n",
    "\n",
    "${f}$ = frequência da classe"
   ]
  },
  {
   "cell_type": "code",
   "execution_count": 23,
   "metadata": {},
   "outputs": [],
   "source": [
    "media_distribuicao = {\n",
    "    'ponto medio':[12.5,24.5,36.5,48.5,60.5,72.5,84.5], \n",
    "    'frequencia':[6,10,13,8,5,6,2]\n",
    "    }\n",
    "\n",
    "df_media_distribuicao = pd.DataFrame(media_distribuicao)\n"
   ]
  },
  {
   "cell_type": "code",
   "execution_count": null,
   "metadata": {},
   "outputs": [],
   "source": [
    "for i, j in df_media_distribuicao.items():\n",
    "    df_media_distribuicao['xf'] = df_media_distribuicao['ponto medio'] * df_media_distribuicao['frequencia']\n",
    "\n",
    "df_media_distribuicao"
   ]
  },
  {
   "cell_type": "code",
   "execution_count": null,
   "metadata": {},
   "outputs": [],
   "source": [
    "media_distribuicao_frequencia = df_media_distribuicao['xf'].sum() / df_media_distribuicao['frequencia'].sum()\n",
    "media_distribuicao_frequencia"
   ]
  }
 ],
 "metadata": {
  "kernelspec": {
   "display_name": "venv",
   "language": "python",
   "name": "python3"
  },
  "language_info": {
   "codemirror_mode": {
    "name": "ipython",
    "version": 3
   },
   "file_extension": ".py",
   "mimetype": "text/x-python",
   "name": "python",
   "nbconvert_exporter": "python",
   "pygments_lexer": "ipython3",
   "version": "3.11.4"
  }
 },
 "nbformat": 4,
 "nbformat_minor": 2
}
