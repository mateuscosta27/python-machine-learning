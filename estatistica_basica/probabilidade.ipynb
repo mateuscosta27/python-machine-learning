{
 "cells": [
  {
   "cell_type": "markdown",
   "metadata": {},
   "source": [
    "### Alguma nomenclaturas da Probabilidade\n",
    "\n",
    "Experimento Aleatorio(estocastico): Apresenta resultados imprevisiveis \n",
    "\n",
    "\n",
    "Experimento Deterministico: O resultado e previsivel\n",
    "\n",
    "\n",
    "$\\boxed{Espaco Amostral \\space\\space\\space\\boxed{Evento}}$\n",
    "\n",
    "Espaco amostral e o conjunto de todos os resultados possiveis\n",
    "\n",
    "Evento e um subconjunto de um espaco amostral"
   ]
  },
  {
   "cell_type": "markdown",
   "metadata": {},
   "source": [
    "### Definicao de probabilidade\n",
    "A probabilidade de ocorrer um evento A é a razão entre o número de elementos de A , n(A), e o número de elementos do espaço amostral E, n(E).\n",
    "\n",
    "\n",
    "${P(A)} = \\cfrac{n(A)}{n(E)}$\n",
    "\n",
    "onde $0<= {P(A)} <= 1$\n",
    "\n",
    "\n",
    "\n",
    "Probabilidade de sair um numero par no lançamento de um dado:\n",
    "\n",
    "\n",
    "Quantidade de numeros pares em um dado\n",
    "\n",
    "${A} = \\text{\\textbraceleft}2,4,6\\text{\\textbraceright}=> {n(A)} = 3$\n",
    "\n",
    "Quantidade de numeros em um dado\n",
    "\n",
    "${E} =\\text{\\textbraceleft}1,2,3,4,5,6\\text{\\textbraceright}=> {n(E)=6}$\n",
    "\n",
    "Substituindo na equacao\n",
    "\n",
    "\n",
    "${P(A) = \\cfrac{3}6}$ = ${P(A)} = \\cfrac{1}2 = 0,5 = 50\\%$"
   ]
  },
  {
   "cell_type": "markdown",
   "metadata": {},
   "source": [
    "## Probabilidade de não ocorrer um evento\n",
    "\n",
    "\n",
    "${P(\\bar{A})} = 1-{P(A)}$\n",
    "\n",
    "\n",
    "Probabilidade da soma ser diferente de 11 no lançamento de dois dados \n",
    "\n",
    "\n",
    "${A} = \\text{\\textbraceleft}(5,6)$,$(6,5)\\text{\\textbraceright} = {n(A)} = 2$\n",
    "\n",
    "${n(E)= 36}$\n",
    "\n",
    "${P(\\bar{A})} = 1-\\cfrac{2}{36}$ =$\\cfrac{34}{36} = \\cfrac{17}{18}\\approxeq 0,944\\approxeq 94,4\\%$ \n"
   ]
  },
  {
   "cell_type": "markdown",
   "metadata": {},
   "source": [
    "### Probabilidade de uniao de eventos\n",
    "A probabilidade de ocorrer o evento A ou o evento B é igual a probabilidade de ocorrer A mais a probabilidade de ocorrer B menos a probabilidade de ocorrer A e B.\n",
    "\n",
    "a palavra ou esta ligada a uniao dos eventos e a palavra e representa a interseccao dos conjuntos\n",
    "\n",
    "\n",
    "Se A e B forem mutuamente exclusivos ${A\\cap B} = \\phi$\n",
    "\n",
    "${P(A\\cup B)} = {P(A) + P(B) - P(A \\cap B)}$\n",
    "\n",
    "\n",
    "Ex.: Numa comunidade de 1000 habitantes, 400 são sócios de um clube A, 300 de um clube B e 100 de ambos. Qual a probabilidade de uma pessoa escolhida ao acaso ser sócia de A ou de B?\n",
    " \n",
    "Aplicando a formula\n",
    "\n",
    "${n(A)}=300$\n",
    "\n",
    "${n(B)}=400$\n",
    "\n",
    "${n(A\\cap B)}=100$\n",
    "\n",
    "${P(A\\cup B)} = {\\cfrac{300}{1000} + \\cfrac{400}{1000} - \\cfrac{100}{1000}}$\n",
    "\n",
    "${P(A\\cup B)} = {\\cfrac{600}{1000} = \\cfrac{6}{10}} = 0,6 = 60\\%$\n",
    "\n",
    "\n"
   ]
  },
  {
   "cell_type": "markdown",
   "metadata": {},
   "source": [
    "### Probabilidade Condicional\n",
    "\n",
    "\n",
    "${P(A|B)}=\\cfrac{n(A\\cap B)}{n(B)}= \\cfrac{P(A \\cap B)}{P(B)}$"
   ]
  },
  {
   "cell_type": "markdown",
   "metadata": {},
   "source": [
    "### Probabilidade da interseccao de eventos\n",
    "\n",
    "${P(A \\cap B)}=P(A) \\centerdot P(B)$"
   ]
  }
 ],
 "metadata": {
  "kernelspec": {
   "display_name": "venv",
   "language": "python",
   "name": "python3"
  },
  "language_info": {
   "codemirror_mode": {
    "name": "ipython",
    "version": 3
   },
   "file_extension": ".py",
   "mimetype": "text/x-python",
   "name": "python",
   "nbconvert_exporter": "python",
   "pygments_lexer": "ipython3",
   "version": "3.11.9"
  }
 },
 "nbformat": 4,
 "nbformat_minor": 2
}
