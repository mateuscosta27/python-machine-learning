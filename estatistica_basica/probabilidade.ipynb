{
 "cells": [
  {
   "cell_type": "markdown",
   "metadata": {},
   "source": [
    "### Importando bibliotecas"
   ]
  },
  {
   "cell_type": "code",
   "execution_count": null,
   "metadata": {},
   "outputs": [],
   "source": [
    "import pandas as pd\n",
    "import math\n"
   ]
  },
  {
   "cell_type": "markdown",
   "metadata": {},
   "source": [
    "### Definicao de probabilidade\n",
    "A probabilidade de ocorrer um evento A é a razão entre o número de elementos de A , n(A), e o número de elementos do espaço amostral E, n(E).\n",
    "\n",
    "\n",
    "${P(A)} = \\cfrac{n(A)}{n(E)}$\n",
    "\n",
    "onde $0<= {P(A)} <= 1$\n",
    "\n",
    "\n",
    "\n",
    "Probabilidade de sair um numero para no lançamento de um dado:\n",
    "\n",
    "${A} = \\text{\\textbraceleft}2,4,6\\text{\\textbraceright}=> {n(A)} = 3$\n",
    "\n",
    "${E} =\\text{\\textbraceleft}1,2,3,4,5,6\\text{\\textbraceright}=> {n(E)=6}$\n",
    "\n",
    "\n",
    "${P(A) = \\cfrac{3}6}$ = ${P(A)} = \\cfrac{1}2 = 0,5 = 50\\%$"
   ]
  },
  {
   "cell_type": "markdown",
   "metadata": {},
   "source": [
    "## Probabilidade de não ocorrer um evento\n",
    "\n",
    "\n",
    "${P(\\bar{A})} = 1-{P(A)}$\n",
    "\n",
    "\n",
    "Probabilidade da soma ser diferente de 11 no lançamento de dois dados \n",
    "\n",
    "\n",
    "${A} = \\text{\\textbraceleft}(5,6)$,$(6,5)\\text{\\textbraceright} = {n(A)} = 2$\n",
    "\n",
    "${n(E)= 36}$\n",
    "\n",
    "${P(\\bar{A})} = 1-\\cfrac{2}{36}$ =$\\cfrac{34}{36} = \\cfrac{17}{18}\\approxeq 0,944\\approxeq 94,4\\%$ \n"
   ]
  }
 ],
 "metadata": {
  "language_info": {
   "name": "python"
  }
 },
 "nbformat": 4,
 "nbformat_minor": 2
}
